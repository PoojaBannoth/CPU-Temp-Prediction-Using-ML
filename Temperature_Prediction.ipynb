{
 "cells": [
  {
   "cell_type": "code",
   "execution_count": 1,
   "id": "coastal-hammer",
   "metadata": {},
   "outputs": [],
   "source": [
    "import numpy as np\n",
    "import pandas as pd\n",
    "from keras.layers import Dense\n",
    "from keras.models import Sequential\n",
    "import keras\n",
    "from texttable import Texttable\n",
    "from sklearn.ensemble import RandomForestRegressor\n",
    "from sklearn.metrics import mean_squared_error\n",
    "from sklearn.ensemble import GradientBoostingRegressor\n",
    "from sklearn.model_selection import train_test_split\n",
    "from sklearn.preprocessing import StandardScaler\n",
    "import matplotlib.pyplot as plt"
   ]
  },
  {
   "cell_type": "code",
   "execution_count": 2,
   "id": "crazy-shoot",
   "metadata": {},
   "outputs": [],
   "source": [
    "EPOCHS = 50\n",
    "BATCH_SIZE = 16"
   ]
  },
  {
   "cell_type": "code",
   "execution_count": 3,
   "id": "micro-tuesday",
   "metadata": {},
   "outputs": [],
   "source": [
    "def get_Data(data):\n",
    "\n",
    "    TargetVariable = ['CPU Package Temperature']\n",
    "    Predictors = [\"CPU Total\",\"RAM\",\"Disk Temperature\",\"Used Space\",\"Power CPU Package\",\"Power CPU Cores\",\"Power CPU Graphics\",\"Power CPU DRAM\" ]\n",
    "\n",
    "    X = data[Predictors].values\n",
    "    y = data[TargetVariable].values\n",
    "\n",
    "    PredictorScaler = StandardScaler()\n",
    "    TargetVarScaler = StandardScaler()\n",
    "\n",
    "    PredictorScalerFit = PredictorScaler.fit(X)\n",
    "    TargetVarScalerFit = TargetVarScaler.fit(y)\n",
    "\n",
    "    X = PredictorScalerFit.transform(X)\n",
    "    y = TargetVarScalerFit.transform(y)\n",
    "\n",
    "\n",
    "    return X,y,PredictorScalerFit,TargetVarScalerFit"
   ]
  },
  {
   "cell_type": "code",
   "execution_count": 4,
   "id": "weekly-wright",
   "metadata": {},
   "outputs": [],
   "source": [
    "def SplitData(X,y):\n",
    "    X_train,X_test,y_train,y_test=train_test_split(X,y,test_size=0.3,random_state=42)\n",
    "    return X_train,X_test,y_train,y_test"
   ]
  },
  {
   "cell_type": "code",
   "execution_count": 5,
   "id": "generic-major",
   "metadata": {},
   "outputs": [],
   "source": [
    "def SplitData_(data):\n",
    "    ds=data.drop(columns='CPU Package Temperature')\n",
    "    X=ds.iloc[::].values\n",
    "    Y=data.iloc[:,1].values\n",
    "    X_train,X_test,Y_train,Y_test=train_test_split(X,Y,test_size=0.3,random_state=0)\n",
    "    sc = StandardScaler()\n",
    "    X_train = sc.fit_transform(X_train)\n",
    "    X_test = sc.fit_transform(X_test)\n",
    "    return X_train,X_test,Y_train,Y_test"
   ]
  },
  {
   "cell_type": "code",
   "execution_count": 6,
   "id": "selective-danish",
   "metadata": {},
   "outputs": [],
   "source": [
    "def Get_Model(INPUT_DIM):\n",
    "\n",
    "    model = Sequential()\n",
    "\n",
    "    model.add(Dense(64, activation='relu', input_dim=INPUT_DIM))\n",
    "    model.add(Dense(units=64, activation='relu'))\n",
    "    model.add(Dense(units=64, activation='relu'))\n",
    "    model.add(Dense(units=1,activation='linear'))\n",
    "    model.compile(optimizer='adam', loss='mse',metrics=['mse','mae'])\n",
    "\n",
    "    print(model.summary())\n",
    "\n",
    "    return model"
   ]
  },
  {
   "cell_type": "code",
   "execution_count": 7,
   "id": "internal-single",
   "metadata": {},
   "outputs": [],
   "source": [
    "def accuracy(X_test,y_test,PredictorScalerFit,TargetVarScalerFit,table_data):\n",
    "    model = keras.models.load_model('data/model.h5')\n",
    "\n",
    "    Predictions = model.predict(X_test)\n",
    "    Predictions = TargetVarScalerFit.inverse_transform(Predictions)\n",
    "\n",
    "    y_test_orig = TargetVarScalerFit.inverse_transform(y_test)\n",
    "\n",
    "    Test_Data = PredictorScalerFit.inverse_transform(X_test)\n",
    "    score=model.evaluate(X_test,y_test,verbose=0)\n",
    "\n",
    "    colums = []\n",
    "    colums.append(\"Artificial Neural Network\")\n",
    "    colums.append(score[0])\n",
    "\n",
    "    absolute_percentage_errors = 100 * (abs(y_test_orig - Predictions) / y_test_orig)\n",
    "    colums.append(str(round(100 - np.mean(absolute_percentage_errors),2))+\"%\")\n",
    "\n",
    "    table_data.append(colums)"
   ]
  },
  {
   "cell_type": "code",
   "execution_count": 8,
   "id": "seasonal-dakota",
   "metadata": {},
   "outputs": [],
   "source": [
    "def Train_Model():\n",
    "\n",
    "    data = pd.read_csv(\"data/train_data.csv\")\n",
    "\n",
    "    X,y,PredictorScalerFit,TargetVarScalerFit = get_Data(data)\n",
    "\n",
    "    X_train,X_test,y_train,y_test=SplitData(X,y)\n",
    "\n",
    "    INPUT_DIM = X_train.shape[1]\n",
    "    model = Get_Model(INPUT_DIM)\n",
    "\n",
    "    history=model.fit(X_train,y_train,validation_data=(X_test,y_test),batch_size=BATCH_SIZE,epochs=EPOCHS,verbose=1)\n",
    "\n",
    "    model.save(\"data/model.h5\")\n",
    "\n",
    "    return X_test,y_test,PredictorScalerFit,TargetVarScalerFit,history"
   ]
  },
  {
   "cell_type": "code",
   "execution_count": 9,
   "id": "impressed-variable",
   "metadata": {},
   "outputs": [],
   "source": [
    "def Predict(X,PredictorScalerFit,TargetVarScalerFit):\n",
    "\n",
    "    model = keras.models.load_model('data/model.h5')\n",
    "\n",
    "    X = PredictorScalerFit.transform(X)\n",
    "\n",
    "    Predicted_temperature=model.predict(X)\n",
    "\n",
    "    X=PredictorScalerFit.inverse_transform(X)\n",
    "\n",
    "    Predicted_temperature=TargetVarScalerFit.inverse_transform(Predicted_temperature)\n",
    "\n",
    "    print(\"Predicted CPU Temperature : \",Predicted_temperature[0][0])"
   ]
  },
  {
   "cell_type": "code",
   "execution_count": 10,
   "id": "advised-semester",
   "metadata": {},
   "outputs": [],
   "source": [
    "def ANN(table_data):\n",
    "\n",
    "    X_test,y_test,PredictorScalerFit,TargetVarScalerFit,history = Train_Model()\n",
    "\n",
    "    accuracy(X_test,y_test, PredictorScalerFit, TargetVarScalerFit,table_data)\n",
    "\n",
    "    return PredictorScalerFit,TargetVarScalerFit,history"
   ]
  },
  {
   "cell_type": "code",
   "execution_count": 11,
   "id": "connected-barrier",
   "metadata": {},
   "outputs": [],
   "source": [
    "def train_model_RandomForestRegressor(X_train,Y_train):\n",
    "    regressor = RandomForestRegressor(n_estimators=1000,random_state=1)\n",
    "    regressor.fit(X_train,Y_train)\n",
    "    return regressor"
   ]
  },
  {
   "cell_type": "code",
   "execution_count": 12,
   "id": "spanish-chosen",
   "metadata": {},
   "outputs": [],
   "source": [
    "def train_model_gradient_boosting(X_train,Y_train):\n",
    "    regressor=GradientBoostingRegressor(n_estimators=500,random_state=1)\n",
    "    regressor.fit(X_train,Y_train)\n",
    "    return regressor"
   ]
  },
  {
   "cell_type": "code",
   "execution_count": 13,
   "id": "static-pennsylvania",
   "metadata": {},
   "outputs": [],
   "source": [
    "def result(model,X_test,Y_test,colums):\n",
    "    Predictions=model.predict(X_test)\n",
    "    colums.append(mean_squared_error(Y_test,Predictions))\n",
    "    colums.append(str(round(model.score(X_test,Y_test)*100,2))+\"%\")"
   ]
  },
  {
   "cell_type": "code",
   "execution_count": 14,
   "id": "prescribed-snowboard",
   "metadata": {},
   "outputs": [],
   "source": [
    "def Random_Forest(table_data,X_train, X_test, Y_train, Y_test):\n",
    "    colums=[]\n",
    "    colums.append(\"Random Forest\")\n",
    "    model_RandomForestRegressor = train_model_RandomForestRegressor(X_train, Y_train)\n",
    "    result(model_RandomForestRegressor, X_test, Y_test, colums)\n",
    "    table_data.append(colums)"
   ]
  },
  {
   "cell_type": "code",
   "execution_count": 15,
   "id": "agreed-treasury",
   "metadata": {},
   "outputs": [],
   "source": [
    "def Gradient_Boosting_Regressor(table_data,X_train, X_test, Y_train, Y_test):\n",
    "    colums = []\n",
    "    colums.append(\"Gradient Boosting Regressor\")\n",
    "    model_gradient_boosting = train_model_gradient_boosting(X_train, Y_train)\n",
    "    result(model_gradient_boosting, X_test, Y_test, colums)\n",
    "    table_data.append(colums)"
   ]
  },
  {
   "cell_type": "code",
   "execution_count": 16,
   "id": "closing-briefing",
   "metadata": {},
   "outputs": [],
   "source": [
    "def plot_result(history):\n",
    "    plt.title('Loss / Mean Squared Error')\n",
    "    plt.plot(history.history['loss'], label='training loss')\n",
    "    plt.plot(history.history['val_loss'], label='validation loss')\n",
    "    plt.xlabel('Epochs')\n",
    "    plt.ylabel('Loss(mse)')\n",
    "    plt.legend()\n",
    "    plt.show()\n",
    "\n",
    "    plt.title('Mean Absolute Error')\n",
    "    plt.plot(history.history['mae'], label='training mae')\n",
    "    plt.plot(history.history['val_mae'], label='validation mae')\n",
    "    plt.xlabel('Epochs')\n",
    "    plt.ylabel('mae')\n",
    "    plt.legend()\n",
    "    plt.show()"
   ]
  },
  {
   "cell_type": "code",
   "execution_count": 17,
   "id": "acquired-disposition",
   "metadata": {},
   "outputs": [
    {
     "name": "stdout",
     "output_type": "stream",
     "text": [
      "Model: \"sequential\"\n",
      "_________________________________________________________________\n",
      "Layer (type)                 Output Shape              Param #   \n",
      "=================================================================\n",
      "dense (Dense)                (None, 64)                576       \n",
      "_________________________________________________________________\n",
      "dense_1 (Dense)              (None, 64)                4160      \n",
      "_________________________________________________________________\n",
      "dense_2 (Dense)              (None, 64)                4160      \n",
      "_________________________________________________________________\n",
      "dense_3 (Dense)              (None, 1)                 65        \n",
      "=================================================================\n",
      "Total params: 8,961\n",
      "Trainable params: 8,961\n",
      "Non-trainable params: 0\n",
      "_________________________________________________________________\n",
      "None\n",
      "Epoch 1/50\n",
      "875/875 [==============================] - 1s 2ms/step - loss: 0.3690 - mse: 0.3690 - mae: 0.4741 - val_loss: 0.3495 - val_mse: 0.3495 - val_mae: 0.4635\n",
      "Epoch 2/50\n",
      "875/875 [==============================] - 1s 1ms/step - loss: 0.3318 - mse: 0.3318 - mae: 0.4563 - val_loss: 0.3342 - val_mse: 0.3342 - val_mae: 0.4565\n",
      "Epoch 3/50\n",
      "875/875 [==============================] - 1s 1ms/step - loss: 0.3194 - mse: 0.3194 - mae: 0.4489 - val_loss: 0.3450 - val_mse: 0.3450 - val_mae: 0.4673\n",
      "Epoch 4/50\n",
      "875/875 [==============================] - 1s 1ms/step - loss: 0.3116 - mse: 0.3116 - mae: 0.4442 - val_loss: 0.3340 - val_mse: 0.3340 - val_mae: 0.4574\n",
      "Epoch 5/50\n",
      "875/875 [==============================] - 1s 1ms/step - loss: 0.3041 - mse: 0.3041 - mae: 0.4396 - val_loss: 0.3348 - val_mse: 0.3348 - val_mae: 0.4589\n",
      "Epoch 6/50\n",
      "875/875 [==============================] - 1s 1ms/step - loss: 0.2999 - mse: 0.2999 - mae: 0.4369 - val_loss: 0.3142 - val_mse: 0.3142 - val_mae: 0.4426\n",
      "Epoch 7/50\n",
      "875/875 [==============================] - 1s 1ms/step - loss: 0.2967 - mse: 0.2967 - mae: 0.4333 - val_loss: 0.3083 - val_mse: 0.3083 - val_mae: 0.4386\n",
      "Epoch 8/50\n",
      "875/875 [==============================] - 1s 1ms/step - loss: 0.2922 - mse: 0.2922 - mae: 0.4303 - val_loss: 0.3093 - val_mse: 0.3093 - val_mae: 0.4447\n",
      "Epoch 9/50\n",
      "875/875 [==============================] - 1s 1ms/step - loss: 0.2868 - mse: 0.2868 - mae: 0.4275 - val_loss: 0.3023 - val_mse: 0.3023 - val_mae: 0.4344\n",
      "Epoch 10/50\n",
      "875/875 [==============================] - 1s 1ms/step - loss: 0.2836 - mse: 0.2836 - mae: 0.4245 - val_loss: 0.3102 - val_mse: 0.3102 - val_mae: 0.4379\n",
      "Epoch 11/50\n",
      "875/875 [==============================] - 1s 1ms/step - loss: 0.2818 - mse: 0.2818 - mae: 0.4219 - val_loss: 0.2930 - val_mse: 0.2930 - val_mae: 0.4257\n",
      "Epoch 12/50\n",
      "875/875 [==============================] - 1s 1ms/step - loss: 0.2814 - mse: 0.2814 - mae: 0.4221 - val_loss: 0.2941 - val_mse: 0.2941 - val_mae: 0.4303\n",
      "Epoch 13/50\n",
      "875/875 [==============================] - 1s 1ms/step - loss: 0.2767 - mse: 0.2767 - mae: 0.4186 - val_loss: 0.2897 - val_mse: 0.2897 - val_mae: 0.4259\n",
      "Epoch 14/50\n",
      "875/875 [==============================] - 1s 1ms/step - loss: 0.2755 - mse: 0.2755 - mae: 0.4169 - val_loss: 0.2843 - val_mse: 0.2843 - val_mae: 0.4203\n",
      "Epoch 15/50\n",
      "875/875 [==============================] - 1s 1ms/step - loss: 0.2731 - mse: 0.2731 - mae: 0.4150 - val_loss: 0.2851 - val_mse: 0.2851 - val_mae: 0.4202\n",
      "Epoch 16/50\n",
      "875/875 [==============================] - 1s 1ms/step - loss: 0.2702 - mse: 0.2702 - mae: 0.4129 - val_loss: 0.2906 - val_mse: 0.2906 - val_mae: 0.4231\n",
      "Epoch 17/50\n",
      "875/875 [==============================] - 1s 1ms/step - loss: 0.2684 - mse: 0.2684 - mae: 0.4108 - val_loss: 0.2894 - val_mse: 0.2894 - val_mae: 0.4244\n",
      "Epoch 18/50\n",
      "875/875 [==============================] - 1s 1ms/step - loss: 0.2666 - mse: 0.2666 - mae: 0.4095 - val_loss: 0.3018 - val_mse: 0.3018 - val_mae: 0.4347\n",
      "Epoch 19/50\n",
      "875/875 [==============================] - 1s 1ms/step - loss: 0.2652 - mse: 0.2652 - mae: 0.4069 - val_loss: 0.2806 - val_mse: 0.2806 - val_mae: 0.4166\n",
      "Epoch 20/50\n",
      "875/875 [==============================] - 1s 1ms/step - loss: 0.2635 - mse: 0.2635 - mae: 0.4052 - val_loss: 0.2936 - val_mse: 0.2936 - val_mae: 0.4266\n",
      "Epoch 21/50\n",
      "875/875 [==============================] - 1s 1ms/step - loss: 0.2596 - mse: 0.2596 - mae: 0.4036 - val_loss: 0.2769 - val_mse: 0.2769 - val_mae: 0.4132\n",
      "Epoch 22/50\n",
      "875/875 [==============================] - 1s 1ms/step - loss: 0.2574 - mse: 0.2574 - mae: 0.4013 - val_loss: 0.2759 - val_mse: 0.2759 - val_mae: 0.4149\n",
      "Epoch 23/50\n",
      "875/875 [==============================] - 1s 1ms/step - loss: 0.2570 - mse: 0.2570 - mae: 0.4001 - val_loss: 0.2711 - val_mse: 0.2711 - val_mae: 0.4076\n",
      "Epoch 24/50\n",
      "875/875 [==============================] - 1s 1ms/step - loss: 0.2550 - mse: 0.2550 - mae: 0.3981 - val_loss: 0.2768 - val_mse: 0.2768 - val_mae: 0.4160\n",
      "Epoch 25/50\n",
      "875/875 [==============================] - 1s 1ms/step - loss: 0.2533 - mse: 0.2533 - mae: 0.3972 - val_loss: 0.2711 - val_mse: 0.2711 - val_mae: 0.4103\n",
      "Epoch 26/50\n",
      "875/875 [==============================] - 1s 1ms/step - loss: 0.2512 - mse: 0.2512 - mae: 0.3945 - val_loss: 0.2837 - val_mse: 0.2837 - val_mae: 0.4223\n",
      "Epoch 27/50\n",
      "875/875 [==============================] - 1s 1ms/step - loss: 0.2486 - mse: 0.2486 - mae: 0.3928 - val_loss: 0.2684 - val_mse: 0.2684 - val_mae: 0.4065\n",
      "Epoch 28/50\n",
      "875/875 [==============================] - 1s 1ms/step - loss: 0.2468 - mse: 0.2468 - mae: 0.3897 - val_loss: 0.2672 - val_mse: 0.2672 - val_mae: 0.4067\n",
      "Epoch 29/50\n",
      "875/875 [==============================] - 1s 1ms/step - loss: 0.2451 - mse: 0.2451 - mae: 0.3883 - val_loss: 0.2707 - val_mse: 0.2707 - val_mae: 0.4039\n",
      "Epoch 30/50\n",
      "875/875 [==============================] - 1s 1ms/step - loss: 0.2432 - mse: 0.2432 - mae: 0.3873 - val_loss: 0.2688 - val_mse: 0.2688 - val_mae: 0.4079\n",
      "Epoch 31/50\n",
      "875/875 [==============================] - 1s 2ms/step - loss: 0.2424 - mse: 0.2424 - mae: 0.3855 - val_loss: 0.2617 - val_mse: 0.2617 - val_mae: 0.3981\n",
      "Epoch 32/50\n",
      "875/875 [==============================] - 1s 2ms/step - loss: 0.2391 - mse: 0.2391 - mae: 0.3827 - val_loss: 0.2606 - val_mse: 0.2606 - val_mae: 0.4014\n",
      "Epoch 33/50\n",
      "875/875 [==============================] - 1s 1ms/step - loss: 0.2397 - mse: 0.2397 - mae: 0.3838 - val_loss: 0.2625 - val_mse: 0.2625 - val_mae: 0.3993\n",
      "Epoch 34/50\n",
      "875/875 [==============================] - 1s 1ms/step - loss: 0.2365 - mse: 0.2365 - mae: 0.3791 - val_loss: 0.2562 - val_mse: 0.2562 - val_mae: 0.3946\n",
      "Epoch 35/50\n",
      "875/875 [==============================] - 1s 1ms/step - loss: 0.2341 - mse: 0.2341 - mae: 0.3783 - val_loss: 0.2562 - val_mse: 0.2562 - val_mae: 0.3965\n",
      "Epoch 36/50\n",
      "875/875 [==============================] - 1s 1ms/step - loss: 0.2319 - mse: 0.2319 - mae: 0.3759 - val_loss: 0.2642 - val_mse: 0.2642 - val_mae: 0.3996\n",
      "Epoch 37/50\n",
      "875/875 [==============================] - 1s 1ms/step - loss: 0.2338 - mse: 0.2338 - mae: 0.3776 - val_loss: 0.2572 - val_mse: 0.2572 - val_mae: 0.3963\n",
      "Epoch 38/50\n",
      "875/875 [==============================] - 1s 1ms/step - loss: 0.2303 - mse: 0.2303 - mae: 0.3731 - val_loss: 0.2586 - val_mse: 0.2586 - val_mae: 0.3946\n",
      "Epoch 39/50\n",
      "875/875 [==============================] - 1s 2ms/step - loss: 0.2302 - mse: 0.2302 - mae: 0.3734 - val_loss: 0.2601 - val_mse: 0.2601 - val_mae: 0.4000\n",
      "Epoch 40/50\n",
      "875/875 [==============================] - 1s 2ms/step - loss: 0.2273 - mse: 0.2273 - mae: 0.3700 - val_loss: 0.2482 - val_mse: 0.2482 - val_mae: 0.3859\n",
      "Epoch 41/50\n",
      "875/875 [==============================] - 1s 1ms/step - loss: 0.2262 - mse: 0.2262 - mae: 0.3686 - val_loss: 0.2504 - val_mse: 0.2504 - val_mae: 0.3879\n",
      "Epoch 42/50\n",
      "875/875 [==============================] - 1s 1ms/step - loss: 0.2252 - mse: 0.2252 - mae: 0.3679 - val_loss: 0.2468 - val_mse: 0.2468 - val_mae: 0.3852\n",
      "Epoch 43/50\n",
      "875/875 [==============================] - 1s 2ms/step - loss: 0.2227 - mse: 0.2227 - mae: 0.3650 - val_loss: 0.2467 - val_mse: 0.2467 - val_mae: 0.3846\n",
      "Epoch 44/50\n",
      "875/875 [==============================] - 2s 2ms/step - loss: 0.2211 - mse: 0.2211 - mae: 0.3648 - val_loss: 0.2425 - val_mse: 0.2425 - val_mae: 0.3812\n",
      "Epoch 45/50\n"
     ]
    },
    {
     "name": "stdout",
     "output_type": "stream",
     "text": [
      "875/875 [==============================] - 1s 2ms/step - loss: 0.2198 - mse: 0.2198 - mae: 0.3623 - val_loss: 0.2483 - val_mse: 0.2483 - val_mae: 0.3819\n",
      "Epoch 46/50\n",
      "875/875 [==============================] - 1s 2ms/step - loss: 0.2180 - mse: 0.2180 - mae: 0.3618 - val_loss: 0.2409 - val_mse: 0.2409 - val_mae: 0.3795\n",
      "Epoch 47/50\n",
      "875/875 [==============================] - 1s 2ms/step - loss: 0.2197 - mse: 0.2197 - mae: 0.3622 - val_loss: 0.2376 - val_mse: 0.2376 - val_mae: 0.3761\n",
      "Epoch 48/50\n",
      "875/875 [==============================] - 1s 2ms/step - loss: 0.2179 - mse: 0.2179 - mae: 0.3594 - val_loss: 0.2409 - val_mse: 0.2409 - val_mae: 0.3800\n",
      "Epoch 49/50\n",
      "875/875 [==============================] - 2s 2ms/step - loss: 0.2147 - mse: 0.2147 - mae: 0.3568 - val_loss: 0.2423 - val_mse: 0.2423 - val_mae: 0.3756\n",
      "Epoch 50/50\n",
      "875/875 [==============================] - 2s 2ms/step - loss: 0.2145 - mse: 0.2145 - mae: 0.3573 - val_loss: 0.2452 - val_mse: 0.2452 - val_mae: 0.3813\n",
      "+-----------------------------+--------------------+----------+\n",
      "|            Model            | Mean Squared Error | Accuracy |\n",
      "+=============================+====================+==========+\n",
      "| Artificial Neural Network   | 0.245              | 97.52%   |\n",
      "+-----------------------------+--------------------+----------+\n",
      "| Random Forest               | 8.281              | 70.53%   |\n",
      "+-----------------------------+--------------------+----------+\n",
      "| Gradient Boosting Regressor | 11.014             | 60.8%    |\n",
      "+-----------------------------+--------------------+----------+\n"
     ]
    },
    {
     "data": {
      "image/png": "[encoded data removed]",
      "text/plain": [
       "<Figure size 432x288 with 1 Axes>"
      ]
     },
     "metadata": {
      "needs_background": "light"
     },
     "output_type": "display_data"
    },
    {
     "data": {
      "image/png": "[encoded data removed]",
      "text/plain": [
       "<Figure size 432x288 with 1 Axes>"
      ]
     },
     "metadata": {
      "needs_background": "light"
     },
     "output_type": "display_data"
    }
   ],
   "source": [
    "table_data = [[\"Model\", \"Mean Squared Error\", \"Accuracy\"]]\n",
    "\n",
    "data = pd.read_csv(\"data/train_data.csv\")\n",
    "X_train,X_test,Y_train,Y_test = SplitData_(data)\n",
    "\n",
    "\n",
    "PredictorScalerFit,TargetVarScalerFit,history=ANN(table_data)\n",
    "Random_Forest(table_data,X_train,X_test,Y_train,Y_test)\n",
    "Gradient_Boosting_Regressor(table_data,X_train,X_test,Y_train,Y_test)\n",
    "\n",
    "table = Texttable()\n",
    "table.add_rows(table_data)\n",
    "print(table.draw())\n",
    "\n",
    "plot_result(history)"
   ]
  },
  {
   "cell_type": "code",
   "execution_count": null,
   "id": "anticipated-trauma",
   "metadata": {},
   "outputs": [],
   "source": []
  }
 ],
 "metadata": {
  "kernelspec": {
   "display_name": "Python 3",
   "language": "python",
   "name": "python3"
  },
  "language_info": {
   "codemirror_mode": {
    "name": "ipython",
    "version": 3
   },
   "file_extension": ".py",
   "mimetype": "text/x-python",
   "name": "python",
   "nbconvert_exporter": "python",
   "pygments_lexer": "ipython3",
   "version": "3.8.5"
  }
 },
 "nbformat": 4,
 "nbformat_minor": 5
}
